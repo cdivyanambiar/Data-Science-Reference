{
  "nbformat": 4,
  "nbformat_minor": 0,
  "metadata": {
    "colab": {
      "name": "Untitled11.ipynb",
      "provenance": []
    },
    "kernelspec": {
      "name": "python3",
      "display_name": "Python 3"
    }
  },
  "cells": [
    {
      "cell_type": "code",
      "metadata": {
        "id": "hwFK-4Pr1jFA",
        "colab_type": "code",
        "colab": {}
      },
      "source": [
        ""
      ],
      "execution_count": 0,
      "outputs": []
    },
    {
      "cell_type": "markdown",
      "metadata": {
        "id": "delIxsz32UIS",
        "colab_type": "text"
      },
      "source": [
        "# TF-IDF example\n"
      ]
    },
    {
      "cell_type": "markdown",
      "metadata": {
        "id": "DAowWG6A2ddJ",
        "colab_type": "text"
      },
      "source": [
        "## Import libraries \n"
      ]
    },
    {
      "cell_type": "code",
      "metadata": {
        "id": "irTLbSqf2WPi",
        "colab_type": "code",
        "colab": {}
      },
      "source": [
        "import pandas as pd  \n",
        "from sklearn.feature_extraction.text import TfidfVectorizer"
      ],
      "execution_count": 0,
      "outputs": []
    },
    {
      "cell_type": "markdown",
      "metadata": {
        "id": "7zBcKJRG2hYi",
        "colab_type": "text"
      },
      "source": [
        "## Document initilization\n",
        "Here we just initialize our  document \n"
      ]
    },
    {
      "cell_type": "code",
      "metadata": {
        "id": "c9kCqLHo2vpy",
        "colab_type": "code",
        "colab": {}
      },
      "source": [
        "documentA = 'the man went out for a walk'\n",
        "documentB = 'the children sat around the fire'"
      ],
      "execution_count": 0,
      "outputs": []
    },
    {
      "cell_type": "markdown",
      "metadata": {
        "id": "hqnBrdTe2ykS",
        "colab_type": "text"
      },
      "source": [
        "## Converting documents to bag of words. \n",
        "\n",
        "#### ML will not understand  raw text.  So we have to convert raw test into vectors of numbers.  \n",
        "####  In NLP we will extraxting the features from a text, we will keep keep all the words in a document to  a bucket.  This is called Bag Of Words or BoW. \n",
        "\n",
        "#### Please note that any info any information about the structure of the sentence is lost.\n",
        "#### Also bag of words doesn’t account for noise. That means cetain words are used for formulate sentence but will not add any sematic meaning ( EX: the )\n"
      ]
    },
    {
      "cell_type": "code",
      "metadata": {
        "id": "X2C-aE6k4NL8",
        "colab_type": "code",
        "colab": {}
      },
      "source": [
        "bagOfWordsA = documentA.split(' ')\n",
        "bagOfWordsB = documentB.split(' ')"
      ],
      "execution_count": 0,
      "outputs": []
    },
    {
      "cell_type": "markdown",
      "metadata": {
        "id": "NQMqDsGt4wcq",
        "colab_type": "text"
      },
      "source": [
        "## Converting bag of words to a set for avoiding duplicates"
      ]
    },
    {
      "cell_type": "code",
      "metadata": {
        "id": "pXOdbcBf43oT",
        "colab_type": "code",
        "colab": {
          "base_uri": "https://localhost:8080/",
          "height": 208
        },
        "outputId": "0fb90c20-0ee7-46d2-ebed-94c72a53665e"
      },
      "source": [
        "UniqueWords = set(bagOfWordsA).union(set(babOfWordsB))\n",
        "UniqueWords"
      ],
      "execution_count": 28,
      "outputs": [
        {
          "output_type": "execute_result",
          "data": {
            "text/plain": [
              "{'a',\n",
              " 'around',\n",
              " 'children',\n",
              " 'fire',\n",
              " 'for',\n",
              " 'man',\n",
              " 'out',\n",
              " 'sat',\n",
              " 'the',\n",
              " 'walk',\n",
              " 'went'}"
            ]
          },
          "metadata": {
            "tags": []
          },
          "execution_count": 28
        }
      ]
    },
    {
      "cell_type": "markdown",
      "metadata": {
        "id": "zgP_l02E5Ij7",
        "colab_type": "text"
      },
      "source": [
        "## Creating dictionary of words and their occurance for each document in the corpus"
      ]
    },
    {
      "cell_type": "code",
      "metadata": {
        "id": "NHQJhTer5dcM",
        "colab_type": "code",
        "colab": {}
      },
      "source": [
        "# Initializing all the keys  with 0 count\n",
        "#Ex:  {'fire': 0, 'for': 0, 'the': 0, 'man': 0, 'walk': 0, 'children': 0, 'sat': 0, 'went': 0, 'out': 0, 'around': 0, 'a': 0}\n",
        "numOfWordsA = dict.fromkeys(UniqueWords, 0)\n",
        "for words in bagOfWordsA:\n",
        "  numOfWordsA[words]+=1\n",
        "\n",
        "numOfWordsB = dict.fromkeys(UniqueWords, 0)\n",
        "for words in bagOfWordsB:\n",
        "  numOfWordsB[words]+=1"
      ],
      "execution_count": 0,
      "outputs": []
    },
    {
      "cell_type": "markdown",
      "metadata": {
        "id": "ZKSb5mCb7Tam",
        "colab_type": "text"
      },
      "source": [
        "## Removing stop words\n"
      ]
    },
    {
      "cell_type": "code",
      "metadata": {
        "id": "veTZwHoh7Wls",
        "colab_type": "code",
        "colab": {}
      },
      "source": [
        "## we can remove stop words if required.  \n",
        "from nltk.corpus  import stopwords\n",
        "#stopwords.words('english')"
      ],
      "execution_count": 0,
      "outputs": []
    },
    {
      "cell_type": "markdown",
      "metadata": {
        "id": "SG8IOybY8jT9",
        "colab_type": "text"
      },
      "source": [
        "## Term Frequency (TF )\n",
        "#### The number of times a word apprear in a document  divided by the the total words in a document.  \n",
        "\n",
        "\n",
        "![alt text](https://miro.medium.com/proxy/1*HM0Vcdrx2RApOyjp_ZeW_Q.png)\n"
      ]
    },
    {
      "cell_type": "code",
      "metadata": {
        "id": "OCh6QbzQ86Ts",
        "colab_type": "code",
        "colab": {}
      },
      "source": [
        "def findTF(numOfWords, bagOfWords):\n",
        "  result = {} \n",
        "  totalWords  = len(bagOfWords)\n",
        "  for word, count in numOfWords.items():\n",
        "    result[word] = count/totalWords\n",
        "  return result\n"
      ],
      "execution_count": 0,
      "outputs": []
    },
    {
      "cell_type": "markdown",
      "metadata": {
        "id": "iJXMzedu_uqr",
        "colab_type": "text"
      },
      "source": [
        "## Term frequency of each document"
      ]
    },
    {
      "cell_type": "code",
      "metadata": {
        "id": "wi-dAMA9-6Ne",
        "colab_type": "code",
        "colab": {}
      },
      "source": [
        "tfA  = findTF(numOfWordsA, bagOfWordsA)\n",
        "tfB = findTF(numOfWordsB, bagOfWordsB)"
      ],
      "execution_count": 0,
      "outputs": []
    },
    {
      "cell_type": "markdown",
      "metadata": {
        "id": "wZ_AD5fm_1Uk",
        "colab_type": "text"
      },
      "source": [
        "## Inverse Data Frequency (IDF)\n",
        "#### log of number of documents divided by the document contains certain a particular  words  \n",
        "\n",
        "![alt text](https://miro.medium.com/proxy/1*A5YGwFpcTd0YTCdgoiHFUw.png)\n"
      ]
    },
    {
      "cell_type": "code",
      "metadata": {
        "id": "RnC9ZKbwAg-O",
        "colab_type": "code",
        "colab": {}
      },
      "source": [
        "def computeIDF(documents):\n",
        "  import math\n",
        "  N  = len(documents)\n",
        "\n",
        "  idfDict = dict.fromkeys(documents[0].keys(), 0)\n",
        "  for document  in documents: \n",
        "    for word, count in document.items():\n",
        "      if count > 0:\n",
        "        idfDict[word]+=1\n",
        "  for word, count in idfDict.items():\n",
        "    idfDict[word] = math.log(N/count)\n",
        "  return idfDict"
      ],
      "execution_count": 0,
      "outputs": []
    },
    {
      "cell_type": "code",
      "metadata": {
        "id": "jH8OAz25FSnt",
        "colab_type": "code",
        "colab": {}
      },
      "source": [
        "  idfs  = computeIDF([numOfWordsA, numOfWordsB])"
      ],
      "execution_count": 0,
      "outputs": []
    },
    {
      "cell_type": "markdown",
      "metadata": {
        "id": "p8QPAbYnGLZ_",
        "colab_type": "text"
      },
      "source": [
        "## TF-IDF is simply the TF multiplied by IDF\n",
        "![alt text](https://miro.medium.com/proxy/1*nSqHXwOIJ2fa_EFLTh5KYw.png)"
      ]
    },
    {
      "cell_type": "code",
      "metadata": {
        "id": "0Jh1u2wtGBFh",
        "colab_type": "code",
        "colab": {}
      },
      "source": [
        "def computeTf_Idf(tfs, idfs):\n",
        "  tfidf = {}\n",
        "  for word, val  in tfs.items():\n",
        "    tfidf[word] = val * idfs[word]\n",
        "  return tfidf"
      ],
      "execution_count": 0,
      "outputs": []
    },
    {
      "cell_type": "markdown",
      "metadata": {
        "id": "9p__gkSwHxMb",
        "colab_type": "text"
      },
      "source": [
        "## Tf-Idf individual doc"
      ]
    },
    {
      "cell_type": "code",
      "metadata": {
        "id": "lT5VQvD2H2XJ",
        "colab_type": "code",
        "colab": {
          "base_uri": "https://localhost:8080/",
          "height": 110
        },
        "outputId": "9e86baaf-14f3-40db-909c-df39c25bb966"
      },
      "source": [
        "tfidfA = computeTf_Idf(tfA, idfs)\n",
        "tfidfB= computeTf_Idf(tfB, idfs)\n",
        "\n",
        "df = pd.DataFrame([tfidfA, tfidfB])\n",
        "df.head()"
      ],
      "execution_count": 55,
      "outputs": [
        {
          "output_type": "execute_result",
          "data": {
            "text/html": [
              "<div>\n",
              "<style scoped>\n",
              "    .dataframe tbody tr th:only-of-type {\n",
              "        vertical-align: middle;\n",
              "    }\n",
              "\n",
              "    .dataframe tbody tr th {\n",
              "        vertical-align: top;\n",
              "    }\n",
              "\n",
              "    .dataframe thead th {\n",
              "        text-align: right;\n",
              "    }\n",
              "</style>\n",
              "<table border=\"1\" class=\"dataframe\">\n",
              "  <thead>\n",
              "    <tr style=\"text-align: right;\">\n",
              "      <th></th>\n",
              "      <th>fire</th>\n",
              "      <th>for</th>\n",
              "      <th>the</th>\n",
              "      <th>man</th>\n",
              "      <th>walk</th>\n",
              "      <th>children</th>\n",
              "      <th>sat</th>\n",
              "      <th>went</th>\n",
              "      <th>out</th>\n",
              "      <th>around</th>\n",
              "      <th>a</th>\n",
              "    </tr>\n",
              "  </thead>\n",
              "  <tbody>\n",
              "    <tr>\n",
              "      <th>0</th>\n",
              "      <td>0.000000</td>\n",
              "      <td>0.099021</td>\n",
              "      <td>0.0</td>\n",
              "      <td>0.099021</td>\n",
              "      <td>0.099021</td>\n",
              "      <td>0.000000</td>\n",
              "      <td>0.000000</td>\n",
              "      <td>0.099021</td>\n",
              "      <td>0.099021</td>\n",
              "      <td>0.000000</td>\n",
              "      <td>0.099021</td>\n",
              "    </tr>\n",
              "    <tr>\n",
              "      <th>1</th>\n",
              "      <td>0.115525</td>\n",
              "      <td>0.000000</td>\n",
              "      <td>0.0</td>\n",
              "      <td>0.000000</td>\n",
              "      <td>0.000000</td>\n",
              "      <td>0.115525</td>\n",
              "      <td>0.115525</td>\n",
              "      <td>0.000000</td>\n",
              "      <td>0.000000</td>\n",
              "      <td>0.115525</td>\n",
              "      <td>0.000000</td>\n",
              "    </tr>\n",
              "  </tbody>\n",
              "</table>\n",
              "</div>"
            ],
            "text/plain": [
              "       fire       for  the       man  ...      went       out    around         a\n",
              "0  0.000000  0.099021  0.0  0.099021  ...  0.099021  0.099021  0.000000  0.099021\n",
              "1  0.115525  0.000000  0.0  0.000000  ...  0.000000  0.000000  0.115525  0.000000\n",
              "\n",
              "[2 rows x 11 columns]"
            ]
          },
          "metadata": {
            "tags": []
          },
          "execution_count": 55
        }
      ]
    },
    {
      "cell_type": "markdown",
      "metadata": {
        "id": "HjA8Ied2IWmQ",
        "colab_type": "text"
      },
      "source": [
        "# We can do the same with sklearn  TfidfVectorizer \n",
        "\n",
        "##### The values differ slightly because sklearn uses a smoothed version idf and various other little optimizations"
      ]
    },
    {
      "cell_type": "markdown",
      "metadata": {
        "id": "WeiXbCXx6D11",
        "colab_type": "text"
      },
      "source": [
        ""
      ]
    },
    {
      "cell_type": "code",
      "metadata": {
        "id": "7NzGDa_kJnHV",
        "colab_type": "code",
        "colab": {
          "base_uri": "https://localhost:8080/",
          "height": 110
        },
        "outputId": "0089f189-cd0f-4c2b-f16c-52c25849b504"
      },
      "source": [
        "Vectorizer = TfidfVectorizer()\n",
        "\n",
        "dfidf_model  = Vectorizer.fit_transform([documentA , documentB])\n",
        "\n",
        "featur_name = Vectorizer.get_feature_names()\n",
        "dense = dfidf_model.todense()\n",
        "\n",
        "tfidfs_list = dense.tolist()\n",
        "df = pd.DataFrame(tfidfs_list, columns = featur_name)\n",
        "df.head()"
      ],
      "execution_count": 61,
      "outputs": [
        {
          "output_type": "execute_result",
          "data": {
            "text/html": [
              "<div>\n",
              "<style scoped>\n",
              "    .dataframe tbody tr th:only-of-type {\n",
              "        vertical-align: middle;\n",
              "    }\n",
              "\n",
              "    .dataframe tbody tr th {\n",
              "        vertical-align: top;\n",
              "    }\n",
              "\n",
              "    .dataframe thead th {\n",
              "        text-align: right;\n",
              "    }\n",
              "</style>\n",
              "<table border=\"1\" class=\"dataframe\">\n",
              "  <thead>\n",
              "    <tr style=\"text-align: right;\">\n",
              "      <th></th>\n",
              "      <th>around</th>\n",
              "      <th>children</th>\n",
              "      <th>fire</th>\n",
              "      <th>for</th>\n",
              "      <th>man</th>\n",
              "      <th>out</th>\n",
              "      <th>sat</th>\n",
              "      <th>the</th>\n",
              "      <th>walk</th>\n",
              "      <th>went</th>\n",
              "    </tr>\n",
              "  </thead>\n",
              "  <tbody>\n",
              "    <tr>\n",
              "      <th>0</th>\n",
              "      <td>0.000000</td>\n",
              "      <td>0.000000</td>\n",
              "      <td>0.000000</td>\n",
              "      <td>0.42616</td>\n",
              "      <td>0.42616</td>\n",
              "      <td>0.42616</td>\n",
              "      <td>0.000000</td>\n",
              "      <td>0.303216</td>\n",
              "      <td>0.42616</td>\n",
              "      <td>0.42616</td>\n",
              "    </tr>\n",
              "    <tr>\n",
              "      <th>1</th>\n",
              "      <td>0.407401</td>\n",
              "      <td>0.407401</td>\n",
              "      <td>0.407401</td>\n",
              "      <td>0.00000</td>\n",
              "      <td>0.00000</td>\n",
              "      <td>0.00000</td>\n",
              "      <td>0.407401</td>\n",
              "      <td>0.579739</td>\n",
              "      <td>0.00000</td>\n",
              "      <td>0.00000</td>\n",
              "    </tr>\n",
              "  </tbody>\n",
              "</table>\n",
              "</div>"
            ],
            "text/plain": [
              "     around  children      fire      for  ...       sat       the     walk     went\n",
              "0  0.000000  0.000000  0.000000  0.42616  ...  0.000000  0.303216  0.42616  0.42616\n",
              "1  0.407401  0.407401  0.407401  0.00000  ...  0.407401  0.579739  0.00000  0.00000\n",
              "\n",
              "[2 rows x 10 columns]"
            ]
          },
          "metadata": {
            "tags": []
          },
          "execution_count": 61
        }
      ]
    }
  ]
}